{
 "cells": [
  {
   "cell_type": "code",
   "execution_count": 7,
   "id": "019168c3-1aa1-4e35-987f-7eab17d7332d",
   "metadata": {},
   "outputs": [
    {
     "name": "stdout",
     "output_type": "stream",
     "text": [
      "Q . . . . . . .\n",
      ". . . . Q . . .\n",
      ". . . . . . . Q\n",
      ". . . . . Q . .\n",
      ". . Q . . . . .\n",
      ". . . . . . Q .\n",
      ". Q . . . . . .\n",
      ". . . Q . . . .\n"
     ]
    }
   ],
   "source": [
    "class NQueensCSP:\n",
    "    def __init__(self, n):\n",
    "        self.n = n\n",
    "        self.variables = list(range(n))\n",
    "        self.domains = {v: list(range(n)) for v in self.variables}\n",
    "    def is_consistent(self, var, value, assignment):\n",
    "        for col, row in assignment.items():\n",
    "            if value == row:\n",
    "                return False\n",
    "            if abs(var - col) == abs(value - row):\n",
    "                return False\n",
    "        return True\n",
    "    def backtracking_search(self, assignment={}):\n",
    "        if len(assignment) == self.n:\n",
    "            return assignment\n",
    "        unassigned = [v for v in self.variables if v not in assignment]\n",
    "        var = unassigned[0]\n",
    "        for value in self.domains[var]:\n",
    "            if self.is_consistent(var, value, assignment):\n",
    "                assignment[var] = value\n",
    "                result = self.backtracking_search(assignment)\n",
    "                if result is not None:\n",
    "                    return result\n",
    "                del assignment[var]\n",
    "        return None\n",
    "    def solve(self):\n",
    "        solution = self.backtracking_search()\n",
    "        if solution:\n",
    "            return self.format_solution(solution)\n",
    "        return None\n",
    "    def format_solution(self, solution):\n",
    "        board = []\n",
    "        for col in sorted(solution):\n",
    "            row = ['Q' if i == solution[col] else '.' for i in range(self.n)]\n",
    "            board.append(' '.join(row))\n",
    "        return board\n",
    " \n",
    "n = 8\n",
    "csp = NQueensCSP(n)\n",
    "solution = csp.solve()\n",
    " \n",
    "if solution:\n",
    "    for row in solution:\n",
    "        print(row)\n",
    "else:\n",
    "    print(f\"No solution found for {n}-Queens\")"
   ]
  },
  {
   "cell_type": "code",
   "execution_count": null,
   "id": "ccb29786-dd5d-41da-8f4d-43b10763d22f",
   "metadata": {},
   "outputs": [],
   "source": []
  }
 ],
 "metadata": {
  "kernelspec": {
   "display_name": "Python 3 (ipykernel)",
   "language": "python",
   "name": "python3"
  },
  "language_info": {
   "codemirror_mode": {
    "name": "ipython",
    "version": 3
   },
   "file_extension": ".py",
   "mimetype": "text/x-python",
   "name": "python",
   "nbconvert_exporter": "python",
   "pygments_lexer": "ipython3",
   "version": "3.12.7"
  }
 },
 "nbformat": 4,
 "nbformat_minor": 5
}
