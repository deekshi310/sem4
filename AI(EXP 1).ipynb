{
 "cells": [
  {
   "cell_type": "code",
   "execution_count": 1,
   "id": "360db8e8-9222-4cbc-8cff-36b98cb5e6da",
   "metadata": {},
   "outputs": [
    {
     "name": "stdout",
     "output_type": "stream",
     "text": [
      "1D Sorted Array:\n",
      " [ 1  2  5  7 10]\n"
     ]
    }
   ],
   "source": [
    "import numpy as np\n",
    "\n",
    "# 1. One-dimensional array sorting\n",
    "arr_1d = np.array([10, 5, 2, 7, 1])\n",
    "sorted_1d = np.sort(arr_1d)\n",
    "print(\"1D Sorted Array:\\n\", sorted_1d)"
   ]
  },
  {
   "cell_type": "code",
   "execution_count": 3,
   "id": "093c46b0-e55e-423d-ae0c-e14f9303076f",
   "metadata": {},
   "outputs": [
    {
     "name": "stdout",
     "output_type": "stream",
     "text": [
      "\n",
      "2D Sorted Array (row-wise by default):\n",
      " [[1 2 3]\n",
      " [4 5 6]]\n",
      "\n",
      "2D Row-wise Sorted:\n",
      " [[1 2 3]\n",
      " [4 5 6]]\n"
     ]
    }
   ],
   "source": [
    "import numpy as np\n",
    "arr_2d = np.array([[3, 2, 1],\n",
    "                   [6, 5, 4]])\n",
    "sorted_2d = np.sort(arr_2d)  # row-wise by default\n",
    "print(\"\\n2D Sorted Array (row-wise by default):\\n\", sorted_2d)\n",
    "sorted_2d_row = np.sort(arr_2d, axis=1)  # axis=1 for rows\n",
    "print(\"\\n2D Row-wise Sorted:\\n\", sorted_2d_row)"
   ]
  },
  {
   "cell_type": "code",
   "execution_count": null,
   "id": "bf28d3e3-297b-4680-b285-01eab4dad2d4",
   "metadata": {},
   "outputs": [],
   "source": [
    "import numpy as np\n"
   ]
  }
 ],
 "metadata": {
  "kernelspec": {
   "display_name": "anaconda-2024.02-py310",
   "language": "python",
   "name": "conda-env-anaconda-2024.02-py310-py"
  },
  "language_info": {
   "codemirror_mode": {
    "name": "ipython",
    "version": 3
   },
   "file_extension": ".py",
   "mimetype": "text/x-python",
   "name": "python",
   "nbconvert_exporter": "python",
   "pygments_lexer": "ipython3",
   "version": "3.10.14"
  }
 },
 "nbformat": 4,
 "nbformat_minor": 5
}
